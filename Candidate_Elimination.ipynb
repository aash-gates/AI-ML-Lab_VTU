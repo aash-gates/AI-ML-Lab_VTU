{
 "cells": [
  {
   "cell_type": "code",
   "execution_count": 1,
   "metadata": {},
   "outputs": [],
   "source": [
    "#Candidate Elimination Program\n",
    "import numpy as np\n",
    "import pandas as pd"
   ]
  },
  {
   "cell_type": "code",
   "execution_count": 2,
   "metadata": {
    "scrolled": true
   },
   "outputs": [
    {
     "name": "stdout",
     "output_type": "stream",
     "text": [
      "dataset is\n",
      "     Sky Airtemp Humidity    Wind Water Forecast EnjoySport\n",
      "0  Sunny    Warm   Normal  Strong  Warm     Same        Yes\n",
      "1  Rainy    Warm     High  Strong  Warm     Same        Yes\n",
      "2  Rainy    Cold     High  Strong  Warm   Change         No\n",
      "3  Rainy    Warm     High  Strong  Cool   Change         No\n",
      "\n"
     ]
    }
   ],
   "source": [
    "# Loading Data from a CSV File\n",
    "data = pd.DataFrame(data=pd.read_csv('Sport_S.csv'))\n",
    "print('dataset is')\n",
    "#,sep='\\n')\n",
    "print(data)\n",
    "print(sep='\\n')"
   ]
  },
  {
   "cell_type": "code",
   "execution_count": 3,
   "metadata": {},
   "outputs": [
    {
     "name": "stdout",
     "output_type": "stream",
     "text": [
      "concepts are\n",
      "[['Sunny' 'Warm' 'Normal' 'Strong' 'Warm' 'Same']\n",
      " ['Rainy' 'Warm' 'High' 'Strong' 'Warm' 'Same']\n",
      " ['Rainy' 'Cold' 'High' 'Strong' 'Warm' 'Change']\n",
      " ['Rainy' 'Warm' 'High' 'Strong' 'Cool' 'Change']]\n",
      "\n",
      "target is:\n",
      "['Yes' 'Yes' 'No' 'No']\n",
      "\n"
     ]
    }
   ],
   "source": [
    "# Separating concept features from Target\n",
    "concepts = np.array(data.iloc[:,0:-1])\n",
    "print('concepts are',sep='\\n')\n",
    "print(concepts)\n",
    "print(sep='\\n')\n",
    "# Isolating target into a separate DataFrame\n",
    "target = np.array(data.iloc[:,-1])\n",
    "print('target is:',target,sep='\\n')\n",
    "print(sep='\\n')"
   ]
  },
  {
   "cell_type": "code",
   "execution_count": 4,
   "metadata": {},
   "outputs": [],
   "source": [
    "def learn(concepts, target):\n",
    "    '''\n",
    "    learn() function implements the learning method of the Candidate elimination algorithm.\n",
    "    \n",
    "    Arguments:\n",
    "    concepts - a data frame with all the features \n",
    "    target - a data frame with corresponding output values\n",
    "    '''\n",
    "    \n",
    "    # Initialise S0 with the first instance from concepts\n",
    "    # .copy() makes sure a new list is created instead of just pointing to the same memory location\n",
    "    specific_h = concepts[0].copy()\n",
    "    \n",
    "    # Initialises G0 using list comprehension\n",
    "    # Creates as many lists inside as there are arguments, \n",
    "    # that which later will be replaced with actual parameters\n",
    "    # G0 = [['?', '?', '?', '?', '?', '?'], \n",
    "    #       ['?', '?', '?', '?', '?', '?'], \n",
    "    #       ['?', '?', '?', '?', '?', '?'], \n",
    "    #       ['?', '?', '?', '?', '?', '?'], \n",
    "    #       ['?', '?', '?', '?', '?', '?'], \n",
    "    #       ['?', '?', '?', '?', '?', '?']]\n",
    "    general_h = [[\"?\" for i in range(len(specific_h))]for i in range(len(specific_h))]\n",
    "     \n",
    "    # The learning iterations\n",
    "    for i, h in enumerate(concepts):\n",
    "        #print(\"i is\",i)\n",
    "        #print(\"h is\",h)\n",
    "       \n",
    "        print(\"specific_h\",specific_h)\n",
    "        # Checking if the hypothesis has a positive target\n",
    "        if target[i] == \"Yes\":\n",
    "            for x in range(len(specific_h)):\n",
    "                print(\"x\",x)\n",
    "                # Change values in S & G only if values change\n",
    "                if h[x] != specific_h[x]:\n",
    "                    specific_h[x] = '?'\n",
    "                    general_h[x][x] = '?'\n",
    "                   \n",
    "        # Checking if the hypothesis has a negative target\n",
    "        if target[i] == \"No\":\n",
    "            for x in range(len(specific_h)):\n",
    "                \n",
    "                # For negative hyposthesis change values only  in G\n",
    "                #h[x] in iterating with respect to instances or concepts\n",
    "                #\n",
    "                if h[x] != specific_h[x]:\n",
    "                    general_h[x][x] = specific_h[x]\n",
    "                else:\n",
    "                    general_h[x][x] = '?'\n",
    "        print(\"general_h\",general_h)     \n",
    "    # find indices where we have empty rows, meaning those that are unchanged\n",
    "    indices = [i for i,val in enumerate(general_h) if val == ['?', '?', '?', '?', '?', '?']]\n",
    "    for i in indices:\n",
    "        # remove those rows from general_h\n",
    "        general_h.remove(['?', '?', '?', '?', '?', '?'])\n",
    "        \n",
    "    # Return final values\n",
    "    return specific_h, general_h"
   ]
  },
  {
   "cell_type": "code",
   "execution_count": 5,
   "metadata": {
    "scrolled": true
   },
   "outputs": [
    {
     "name": "stdout",
     "output_type": "stream",
     "text": [
      "specific_h ['Sunny' 'Warm' 'Normal' 'Strong' 'Warm' 'Same']\n",
      "x 0\n",
      "x 1\n",
      "x 2\n",
      "x 3\n",
      "x 4\n",
      "x 5\n",
      "general_h [['?', '?', '?', '?', '?', '?'], ['?', '?', '?', '?', '?', '?'], ['?', '?', '?', '?', '?', '?'], ['?', '?', '?', '?', '?', '?'], ['?', '?', '?', '?', '?', '?'], ['?', '?', '?', '?', '?', '?']]\n",
      "specific_h ['Sunny' 'Warm' 'Normal' 'Strong' 'Warm' 'Same']\n",
      "x 0\n",
      "x 1\n",
      "x 2\n",
      "x 3\n",
      "x 4\n",
      "x 5\n",
      "general_h [['?', '?', '?', '?', '?', '?'], ['?', '?', '?', '?', '?', '?'], ['?', '?', '?', '?', '?', '?'], ['?', '?', '?', '?', '?', '?'], ['?', '?', '?', '?', '?', '?'], ['?', '?', '?', '?', '?', '?']]\n",
      "specific_h ['?' 'Warm' '?' 'Strong' 'Warm' 'Same']\n",
      "general_h [['?', '?', '?', '?', '?', '?'], ['?', 'Warm', '?', '?', '?', '?'], ['?', '?', '?', '?', '?', '?'], ['?', '?', '?', '?', '?', '?'], ['?', '?', '?', '?', '?', '?'], ['?', '?', '?', '?', '?', 'Same']]\n",
      "specific_h ['?' 'Warm' '?' 'Strong' 'Warm' 'Same']\n",
      "general_h [['?', '?', '?', '?', '?', '?'], ['?', '?', '?', '?', '?', '?'], ['?', '?', '?', '?', '?', '?'], ['?', '?', '?', '?', '?', '?'], ['?', '?', '?', '?', 'Warm', '?'], ['?', '?', '?', '?', '?', 'Same']]\n"
     ]
    }
   ],
   "source": [
    "s_final, g_final = learn(concepts, target)"
   ]
  },
  {
   "cell_type": "code",
   "execution_count": 6,
   "metadata": {},
   "outputs": [
    {
     "name": "stdout",
     "output_type": "stream",
     "text": [
      "Final S:\n",
      "['?' 'Warm' '?' 'Strong' 'Warm' 'Same']\n"
     ]
    }
   ],
   "source": [
    "print(\"Final S:\", s_final, sep=\"\\n\")"
   ]
  },
  {
   "cell_type": "code",
   "execution_count": 7,
   "metadata": {},
   "outputs": [
    {
     "name": "stdout",
     "output_type": "stream",
     "text": [
      "Final G:\n",
      "[['?', '?', '?', '?', 'Warm', '?'], ['?', '?', '?', '?', '?', 'Same']]\n"
     ]
    }
   ],
   "source": [
    "print(\"Final G:\", g_final, sep=\"\\n\")"
   ]
  }
 ],
 "metadata": {
  "kernelspec": {
   "display_name": "Python 3",
   "language": "python",
   "name": "python3"
  },
  "language_info": {
   "codemirror_mode": {
    "name": "ipython",
    "version": 3
   },
   "file_extension": ".py",
   "mimetype": "text/x-python",
   "name": "python",
   "nbconvert_exporter": "python",
   "pygments_lexer": "ipython3",
   "version": "3.7.1"
  }
 },
 "nbformat": 4,
 "nbformat_minor": 2
}
